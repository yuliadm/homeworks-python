{
 "cells": [
  {
   "cell_type": "markdown",
   "id": "01ac01fe",
   "metadata": {
    "id": "01ac01fe"
   },
   "source": [
    "## Домашнее задание 3\n",
    "### Описание\n",
    "Вам предстоит решить три задания. При решении можно пользоваться только базовыми функциями Python (если специально не указано иное).\n",
    "\n",
    "### Задание 1 (3 балла)\n",
    "\n",
    "Известно, что подготовка и исследование данных для машинного обучения занимают куда больше времени, чем собственно машинное обучение. В частности, существует такая процедура, как создание т. н. dummy-переменных.\n",
    "\n",
    "![dummy](https://www.statology.org/wp-content/uploads/2021/02/dummyvartrap1-768x344.png)\n",
    "\n",
    "В `pandas` уже есть функция, которая принимает на вход текстовую колонку таблицы и возвращает вместо неё много колонок с dummy-переменными. Однако проблема в том, что в ваших данных есть переменные, имена которых представляют собой словосочетания со знаками препинания (количество таких слов формально не ограничено). Некоторые алгоритмы «предпочитают» только простые имена переменных вида `variable` или `simple_variable`. Кроме того, так или иначе для последующей работы неплохо было бы стандартизировать все имена.\n",
    "\n",
    "Поэтому вам необходимо создать функцию, которая принимала бы на вход список из имён переменных и производила следующую предобработку всех значений в колонке:\n",
    "\n",
    "- удаление всех знаков препинания;\n",
    "- приведение всех букв к нижнему регистру;\n",
    "- замена всех пробелов на нижнее подчеркивание;\n",
    "- ограничение длины каждого слова первыми четырьмя буквами.\n",
    "\n",
    "Функция должна возвращать словарь (т. н. mapper), по которому можно преобразовать переменную в новый вид (с помощью методов `.map()` / `.apply` — о них вы узнаете чуть позднее). Ключами должны быть старые имена, а значениями — новые. Гарантируется, что словосочетания приводятся на английском языке.\n",
    "\n",
    "**Пример:**\n",
    "\n",
    "```\n",
    "function input:\n",
    "['Agree', 'Agree', 'Neither agree nor disagree', \"Don't know\", 'Neither agree nor disagree', 'Neither agree nor disagree', 'Disagree', 'No answer', 'Agree strongly', 'No answer', 'Agree', 'Refusal', 'Refusal', 'Disagree strongly', 'Disagree']\n",
    "\n",
    "function return:\n",
    "{\n",
    "    'Agree strongly': 'agre_stro',\n",
    "    'Agree': 'agre',\n",
    "    'Neither agree nor disagree': 'neit_agre_nor_disa',\n",
    "    'Disagree': 'disa',\n",
    "    'Disagree strongly': 'disa_stro',\n",
    "    'Refusal': 'refu',\n",
    "    \"Don't know\": 'dont_know',\n",
    "    'No answer': 'no_answ'\n",
    "}\n",
    "```\n",
    "\n",
    "**Критерии:**\n",
    "\n",
    "- Реализованы **все** условия, функция принимает на вход и возвращает предусмотренные условиями объекты — *3 балла*.\n",
    "- Реализовано **50 %** условий, функция работает, принимает на вход и возвращает предусмотренные условиями объекты — *2 балла*.\n",
    "- Иное — *0 баллов*."
   ]
  },
  {
   "cell_type": "code",
   "execution_count": 2,
   "id": "6c16e4c1",
   "metadata": {
    "id": "6c16e4c1"
   },
   "outputs": [
    {
     "name": "stdout",
     "output_type": "stream",
     "text": [
      "{'Agree': 'agre', 'Neither agree nor disagree': 'neit_agre_nor_disa', \"Don't know\": 'dont_know', 'Disagree': 'disa', 'No answer': 'no_answ', 'Agree strongly': 'agre_stro', 'Refusal': 'refu', 'Disagree strongly': 'disa_stro'}\n"
     ]
    }
   ],
   "source": [
    "input = ['Agree', 'Agree', 'Neither agree nor disagree', \"Don't know\", 'Neither agree nor disagree', 'Neither agree nor disagree', 'Disagree', 'No answer', 'Agree strongly', 'No answer', 'Agree', 'Refusal', 'Refusal', 'Disagree strongly', 'Disagree']\n",
    "\n",
    "\n",
    "def simple_variable(list_in):\n",
    "    \n",
    "    punctuation_list = ['.', ',', ';', ':', '...', '!', '?', '-', \"—\", '\"', '(', ')', '`', \"'\"]\n",
    "\n",
    "    ls = []\n",
    "    \n",
    "    # for each element in the input list\n",
    "    for elem in list_in:\n",
    "        # eleminate punctuation\n",
    "        for char in punctuation_list:\n",
    "            elem = elem.replace(char,\"\")\n",
    "        # cast the expressions to lower case, split to words and reduce the length of each word to 4 characters max\n",
    "        elem = elem.lower().split()\n",
    "        short = list(map(lambda x: x[0:4], elem))\n",
    "        # join the reduced parts using _ in between\n",
    "        ls.append('_'.join(short))\n",
    "\n",
    "        # zip the two lists into a dictionary\n",
    "        expr_to_varname = dict(zip(list_in, ls))\n",
    "    \n",
    "    return expr_to_varname\n",
    "\n",
    "\n",
    "print(simple_variable(input))"
   ]
  },
  {
   "cell_type": "markdown",
   "id": "4eff9df6",
   "metadata": {
    "id": "4eff9df6"
   },
   "source": [
    "### Задание 2 (2 балла)\n",
    "\n",
    "Имена переменных не всегда бывают записаны на латинице. Модифицируйте вашу функцию так, чтобы она по умолчанию обрабатывала англоязычные имена переменных, но также имела возможность (при соответствующем значении аргумента) обработать и имена на кириллице. Вам может пригодиться функция `translit` из модуля `transliterate` (пример работы с кириллицей вы сможете найти ниже).\n",
    "\n",
    "Если у вас не установлен модуль `transliterate`, выполните в отдельной ячейке следующий код:\n",
    "\n",
    "```\n",
    "!pip install transliterate\n",
    "```\n",
    "\n",
    "**Пример:**\n",
    "\n",
    "```\n",
    "function input:\n",
    "['Согласен', 'Согласен', 'И да, и нет', 'Не знаю', 'И да, и нет', 'И да, и нет', 'Не согласен', 'Нет ответа', 'Полностью согласен', 'Нет ответа', 'Согласен', 'Отказ от ответа', 'Отказ от ответа', 'Полностью не согласен', 'Не согласен']\n",
    "\n",
    "function return:\n",
    "{\n",
    "    'Полностью согласен': 'poln_sogl',\n",
    "    'Согласен': 'sogl',\n",
    "    'И да, и нет': 'i_da_i_net',\n",
    "    'Не согласен': 'ne_sogl',\n",
    "    'Полностью не согласен': 'poln_ne_sogl',\n",
    "    'Отказ от ответа': 'otka_ot_otve',\n",
    "    'Не знаю': 'ne_znaj',\n",
    "    'Нет ответа': 'net_otve'\n",
    "}\n",
    "```\n",
    "\n",
    "**Критерии:**\n",
    "\n",
    "- Правильно добавлена транслитерация — *2 балла*.\n",
    "- Иное — *0 баллов*."
   ]
  },
  {
   "cell_type": "code",
   "execution_count": null,
   "id": "afe7bc5a",
   "metadata": {
    "id": "afe7bc5a",
    "outputId": "9d1ec508-708c-436d-e5ba-eece40e2c8f3"
   },
   "outputs": [
    {
     "name": "stdout",
     "output_type": "stream",
     "text": [
      "Polnost'ju ne soglasen\n"
     ]
    }
   ],
   "source": [
    "# пример работы функции translit\n",
    "\n",
    "from transliterate import translit\n",
    "\n",
    "print(translit('Полностью не согласен', 'ru', reversed=True))"
   ]
  },
  {
   "cell_type": "code",
   "execution_count": 5,
   "id": "71d82eab",
   "metadata": {
    "id": "71d82eab"
   },
   "outputs": [
    {
     "name": "stdout",
     "output_type": "stream",
     "text": [
      "{'Согласен': 'sogl', 'И да, и нет': 'i_da_i_net', 'Не знаю': 'ne_znaj', 'Не согласен': 'ne_sogl', 'Нет ответа': 'net_otve', 'Полностью согласен': 'poln_sogl', 'Отказ от ответа': 'otka_ot_otve', 'Полностью не согласен': 'poln_ne_sogl'}\n"
     ]
    }
   ],
   "source": [
    "from transliterate import translit\n",
    "\n",
    "#input = ['Agree', 'Agree', 'Neither agree nor disagree', \"Don't know\", 'Neither agree nor disagree', 'Neither agree nor disagree', 'Disagree', 'No answer', 'Agree strongly', 'No answer', 'Agree', 'Refusal', 'Refusal', 'Disagree strongly', 'Disagree']\n",
    "input = ['Согласен', 'Согласен', 'И да, и нет', 'Не знаю', 'И да, и нет', 'И да, и нет', 'Не согласен', 'Нет ответа', 'Полностью согласен', 'Нет ответа', 'Согласен', 'Отказ от ответа', 'Отказ от ответа', 'Полностью не согласен', 'Не согласен']\n",
    "\n",
    "\n",
    "def simple_variable(list_in):\n",
    "    \n",
    "    punctuation_list = ['.', ',', ';', ':', '...', '!', '?', '-', \"—\", '\"', '(', ')', '`', \"'\"]\n",
    "\n",
    "    ls = []\n",
    "    \n",
    "    # for each element in the input list\n",
    "    for elem in list_in:\n",
    "        # add transliteration\n",
    "        # if the input language is english, the translit func raises a LanguageDetectionError\n",
    "        # --> handle it as an exception \n",
    "        try:\n",
    "            elem = translit(elem, 'ru', reversed=True)\n",
    "        except Exception:\n",
    "            pass\n",
    "        \n",
    "        # eleminate punctuation\n",
    "        for char in punctuation_list:\n",
    "            elem = elem.replace(char,\"\")\n",
    "        # cast the expressions to lower case, split to words and reduce the length of each word to 4 characters max\n",
    "        elem = elem.lower().split()\n",
    "        short = list(map(lambda x: x[0:4], elem))\n",
    "        # join the reduced parts using _ in between\n",
    "        ls.append('_'.join(short))\n",
    "\n",
    "        # zip the two lists into a dictionary\n",
    "        expr_to_varname = dict(zip(list_in, ls))\n",
    "    \n",
    "    return expr_to_varname\n",
    "\n",
    "\n",
    "print(simple_variable(input))"
   ]
  },
  {
   "cell_type": "markdown",
   "id": "7ce4c7d3",
   "metadata": {
    "id": "7ce4c7d3"
   },
   "source": [
    "### Задание 3 (7 баллов)\n",
    "\n",
    "Перед вами стоит новая задача — создать dummy-переменные в PostgreSQL. К сожалению, это не `pandas` и готовой функции на этот случай не предусмотрено. Однако вы знаете, что можно создавать новые переменные, базируясь на значении старых и используя конструкцию `CASE...WHEN...THEN...END`:\n",
    "\n",
    "```\n",
    "PostgreSQL:\n",
    "CASE WHEN <condition> THEN <value1> ELSE <value2> END AS <variable_name>\n",
    "В ТОМ СЛУЧАЕ КОГДА <условие> ТОГДА <значение1> ИНАЧЕ <значение2> КОНЕЦ НАЗВАТЬ <имя_переменной>\n",
    "\n",
    "Python:\n",
    "if <condition>:\n",
    "    <value1>\n",
    "else:\n",
    "    <value2>\n",
    "```\n",
    "\n",
    "Если категорий немного, то написать такой код несложно. Однако что делать, если их, к примеру, 100? В этом случае придётся писать `CASE WHEN` столько раз, сколько уникальных значений содержит ваша переменная, а также придумывать каждый раз соответствующее название.\n",
    "\n",
    "Используйте свои знания Python, чтобы автоматизировать процесс написания SQL-запроса — напишите соответствующую функцию. Для автоматизированной генерации имени переменной используйте наработки из предыдущих заданий. **Учтите**, что значения переменной не обязательно будут написаны на латинице.\n",
    "\n",
    "- На вход функция должна получать словарь из одной пары «ключ — значение», в которой ключом будет название колонки, а значением — список её значений.\n",
    "\n",
    "- На выходе функция должна печатать (в таком же формате, как в примере ниже) законченный блок SQL-запроса.\n",
    "\n",
    "**Пример:**\n",
    "```\n",
    "function input:\n",
    "{\n",
    "    'gincdif': ['Agree', 'Agree', 'Neither agree nor disagree', \"Don't know\", 'Neither agree nor disagree', 'Neither agree nor disagree', 'Disagree', 'No answer', 'Agree strongly', 'No answer', 'Agree', 'Refusal', 'Refusal', 'Disagree strongly', 'Disagree']\n",
    "}\n",
    "\n",
    "function return:\n",
    "    CASE WHEN gincdif = 'Agree strongly' THEN 1 ELSE 0 END AS agre_stro,\n",
    "    CASE WHEN gincdif = 'Agree' THEN 1 ELSE 0 END AS agre,\n",
    "    CASE WHEN gincdif = 'Neither agree nor disagree' THEN 1 ELSE 0 END AS neit_agre_nor_disa,\n",
    "    CASE WHEN gincdif = 'Disagree' THEN 1 ELSE 0 END AS disa,\n",
    "    CASE WHEN gincdif = 'Disagree strongly' THEN 1 ELSE 0 END AS disa_stro,\n",
    "    CASE WHEN gincdif = 'Refusal' THEN 1 ELSE 0 END AS refu,\n",
    "    CASE WHEN ginsdif = \"Don't know\" THEN 1 ELSE 0 END AS dont_know,\n",
    "    CASE WHEN ginsdif = \"No answer\" THEN 1 ELSE 0 END AS no_answ\n",
    "```\n",
    "\n",
    "**Критерии:**\n",
    "\n",
    "- Реализовано создание SQL-запроса — *2 балла*.\n",
    "- Предусмотрены кириллические имена исходной переменной — *3 балла*.\n",
    "- Правильно создаются имена переменных — *2 балла*.\n",
    "- Иное — *0 баллов*."
   ]
  },
  {
   "cell_type": "code",
   "execution_count": 17,
   "id": "bdaa40c4",
   "metadata": {
    "id": "bdaa40c4"
   },
   "outputs": [
    {
     "name": "stdout",
     "output_type": "stream",
     "text": [
      "CASE WHEN gincdif = 'Согласен' THEN 1 ELSE 0 END AS sogl,\n",
      "CASE WHEN gincdif = 'И да, и нет' THEN 1 ELSE 0 END AS i_da_i_net,\n",
      "CASE WHEN gincdif = 'Не знаю' THEN 1 ELSE 0 END AS ne_znaj,\n",
      "CASE WHEN gincdif = 'Не согласен' THEN 1 ELSE 0 END AS ne_sogl,\n",
      "CASE WHEN gincdif = 'Нет ответа' THEN 1 ELSE 0 END AS net_otve,\n",
      "CASE WHEN gincdif = 'Полностью согласен' THEN 1 ELSE 0 END AS poln_sogl,\n",
      "CASE WHEN gincdif = 'Отказ от ответа' THEN 1 ELSE 0 END AS otka_ot_otve,\n",
      "CASE WHEN gincdif = 'Полностью не согласен' THEN 1 ELSE 0 END AS poln_ne_sogl\n"
     ]
    }
   ],
   "source": [
    "from transliterate import translit\n",
    "\n",
    "#input = {'gincdif': ['Agree', 'Agree', 'Neither agree nor disagree', \"Don't know\", 'Neither agree nor disagree', 'Neither agree nor disagree', 'Disagree', 'No answer', 'Agree strongly', 'No answer', 'Agree', 'Refusal', 'Refusal', 'Disagree strongly', 'Disagree']}\n",
    "input ={'gincdif': ['Согласен', 'Согласен', 'И да, и нет', 'Не знаю', 'И да, и нет', 'И да, и нет', 'Не согласен', 'Нет ответа', 'Полностью согласен', 'Нет ответа', 'Согласен', 'Отказ от ответа', 'Отказ от ответа', 'Полностью не согласен', 'Не согласен']}\n",
    "\n",
    "\n",
    "def simple_variable(list_in):\n",
    "    \n",
    "    punctuation_list = ['.', ',', ';', ':', '...', '!', '?', '-', \"—\", '\"', '(', ')', '`', \"'\"]\n",
    "\n",
    "    ls = []\n",
    "    # for each element in the input list\n",
    "    for elem in list_in:\n",
    "        # add transliteration\n",
    "        # if the input language is english, the translit func raises a LanguageDetectionError\n",
    "        # --> handle it as an exception \n",
    "        try:\n",
    "            elem = translit(elem, 'ru', reversed=True)\n",
    "        except Exception:\n",
    "            pass\n",
    "        \n",
    "        # eleminate punctuation\n",
    "        for char in punctuation_list:\n",
    "            elem = elem.replace(char,\"\")\n",
    "        # cast the expressions to lower case, split to words and reduce the length of each word to 4 characters max\n",
    "        elem = elem.lower().split()\n",
    "        short = list(map(lambda x: x[0:4], elem))\n",
    "        # join the reduced parts using _ in between\n",
    "        ls.append('_'.join(short))\n",
    "\n",
    "        # zip the two lists into a dictionary\n",
    "        expr_to_varname = dict(zip(list_in, ls))\n",
    "    \n",
    "    return expr_to_varname\n",
    "\n",
    "# add function generating SQL queries\n",
    "def sql_query(dict_in):\n",
    "    \n",
    "    dictkey = dict_in.keys()\n",
    "    dct = dict_in.values()\n",
    "    d = simple_variable(list(*dct))\n",
    "    print(\",\\n\".join(\"CASE WHEN {} = '{}' THEN 1 ELSE 0 END AS {}\".format(*dictkey, k, v) for k, v in d.items()))\n",
    "# the function prints the query and returns None    \n",
    "    return None\n",
    "\n",
    "\n",
    "sql_query(input)"
   ]
  },
  {
   "cell_type": "markdown",
   "id": "132bfd21",
   "metadata": {},
   "source": [
    "Функцию для переименования переменных можно включить в тело функции, генерирующей SQL-запросы. Последнюю можно заставить не печатать запрос, а возвращать строку, содержащую запрос целиком. "
   ]
  },
  {
   "cell_type": "code",
   "execution_count": 20,
   "id": "64d824f0",
   "metadata": {},
   "outputs": [
    {
     "name": "stdout",
     "output_type": "stream",
     "text": [
      "CASE WHEN знач = 'Согласен' THEN 1 ELSE 0 END AS sogl,\n",
      "CASE WHEN знач = 'И да, и нет' THEN 1 ELSE 0 END AS i_da_i_net,\n",
      "CASE WHEN знач = 'Не знаю' THEN 1 ELSE 0 END AS ne_znaj,\n",
      "CASE WHEN знач = 'Не согласен' THEN 1 ELSE 0 END AS ne_sogl,\n",
      "CASE WHEN знач = 'Нет ответа' THEN 1 ELSE 0 END AS net_otve,\n",
      "CASE WHEN знач = 'Полностью согласен' THEN 1 ELSE 0 END AS poln_sogl,\n",
      "CASE WHEN знач = 'Отказ от ответа' THEN 1 ELSE 0 END AS otka_ot_otve,\n",
      "CASE WHEN знач = 'Полностью не согласен' THEN 1 ELSE 0 END AS poln_ne_sogl\n"
     ]
    }
   ],
   "source": [
    "#input = {'gincdif': ['Agree', 'Agree', 'Neither agree nor disagree', \"Don't know\", 'Neither agree nor disagree', 'Neither agree nor disagree', 'Disagree', 'No answer', 'Agree strongly', 'No answer', 'Agree', 'Refusal', 'Refusal', 'Disagree strongly', 'Disagree']}\n",
    "input ={'знач': ['Согласен', 'Согласен', 'И да, и нет', 'Не знаю', 'И да, и нет', 'И да, и нет', 'Не согласен', 'Нет ответа', 'Полностью согласен', 'Нет ответа', 'Согласен', 'Отказ от ответа', 'Отказ от ответа', 'Полностью не согласен', 'Не согласен']}\n",
    "\n",
    "\n",
    "# function generating SQL queries from a dictionary\n",
    "def sql_query(dict_in):\n",
    "    \n",
    "    dictkey = list(dict_in.keys())\n",
    "    dct = dict_in.values()\n",
    "    list_in = list(*dct)\n",
    "    \n",
    "    punctuation_list = ['.', ',', ';', ':', '...', '!', '?', '-', \"—\", '\"', '(', ')', '`', \"'\"]\n",
    "\n",
    "    ls = []\n",
    "    # for each element in the input list\n",
    "    for elem in list_in:\n",
    "        # add transliteration\n",
    "        # if the input language is english, the translit func raises a LanguageDetectionError\n",
    "        # --> handle it as an exception \n",
    "        try:\n",
    "            elem = translit(elem, 'ru', reversed=True)\n",
    "        except Exception:\n",
    "            pass\n",
    "        \n",
    "        # eleminate punctuation\n",
    "        for char in punctuation_list:\n",
    "            elem = elem.replace(char,\"\")\n",
    "        # cast the expressions to lower case, split to words and reduce the length of each word to 4 characters max\n",
    "        elem = elem.lower().split()\n",
    "        short = list(map(lambda x: x[0:4], elem))\n",
    "        # join the reduced parts using _ in between\n",
    "        ls.append('_'.join(short))\n",
    "\n",
    "        # zip the two lists into a dictionary\n",
    "        expr_to_varname = dict(zip(list_in, ls))\n",
    "    \n",
    "       \n",
    "    queries = []\n",
    "    for k, v in expr_to_varname.items():\n",
    "        queries.append(\"CASE WHEN \" + str(dictkey[0]) + \" = '\" + k + \"' THEN 1 ELSE 0 END AS \" + v )\n",
    "    final_query = \",\\n\".join(queries) \n",
    "# return a string contining the query    \n",
    "    return final_query\n",
    "\n",
    "\n",
    "print(sql_query(input))"
   ]
  },
  {
   "cell_type": "code",
   "execution_count": null,
   "id": "b24a5f69",
   "metadata": {},
   "outputs": [],
   "source": []
  },
  {
   "cell_type": "code",
   "execution_count": null,
   "id": "b6033327",
   "metadata": {},
   "outputs": [],
   "source": []
  }
 ],
 "metadata": {
  "colab": {
   "provenance": []
  },
  "kernelspec": {
   "display_name": "Python 3 (ipykernel)",
   "language": "python",
   "name": "python3"
  },
  "language_info": {
   "codemirror_mode": {
    "name": "ipython",
    "version": 3
   },
   "file_extension": ".py",
   "mimetype": "text/x-python",
   "name": "python",
   "nbconvert_exporter": "python",
   "pygments_lexer": "ipython3",
   "version": "3.8.16"
  }
 },
 "nbformat": 4,
 "nbformat_minor": 5
}
